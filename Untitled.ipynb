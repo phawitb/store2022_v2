{
 "cells": [
  {
   "cell_type": "code",
   "execution_count": 48,
   "id": "b5137648",
   "metadata": {},
   "outputs": [
    {
     "name": "stdout",
     "output_type": "stream",
     "text": [
      "3\n"
     ]
    }
   ],
   "source": [
    "#fake add item\n",
    "import random\n",
    "\n",
    "items = ['9187786495792','9781186495798','9781786495792','9786161820626']\n",
    "i = random.randint(0, len(items)-1)\n",
    "print(i)\n",
    "with open('data/current_barcode.csv','a') as fd:\n",
    "    fd.write(items[i]+'\\n')\n",
    "    "
   ]
  },
  {
   "cell_type": "code",
   "execution_count": 49,
   "id": "79950e93",
   "metadata": {},
   "outputs": [],
   "source": [
    "#finish\n",
    "import configparser\n",
    "\n",
    "def update_status(waiting_amount,finish):\n",
    "    config = configparser.ConfigParser()\n",
    "    config.read('data/status.txt')\n",
    "#     config.add_section('status')\n",
    "    config.set('status', 'waiting_amount', str(waiting_amount))\n",
    "    if finish != '':\n",
    "        config.set('status', 'finish', str(finish))\n",
    "    with open('data/status.txt', 'w') as configfile:\n",
    "        config.write(configfile)\n",
    "        \n",
    "update_status(0,True)"
   ]
  },
  {
   "cell_type": "code",
   "execution_count": 20,
   "id": "02766aee",
   "metadata": {},
   "outputs": [
    {
     "data": {
      "text/plain": [
       "('75', 'False')"
      ]
     },
     "execution_count": 20,
     "metadata": {},
     "output_type": "execute_result"
    }
   ],
   "source": [
    "\n",
    "def read_status():\n",
    "    parser = configparser.ConfigParser()\n",
    "    parser.read('data/status.txt')\n",
    "    finish = parser.get(\"status\", \"finish\")\n",
    "    waiting_amount = parser.get(\"status\", \"waiting_amount\")\n",
    "    return waiting_amount,finish\n",
    "\n",
    "read_status()"
   ]
  },
  {
   "cell_type": "code",
   "execution_count": null,
   "id": "9369e056",
   "metadata": {},
   "outputs": [],
   "source": []
  },
  {
   "cell_type": "code",
   "execution_count": null,
   "id": "f9b8ab40",
   "metadata": {},
   "outputs": [],
   "source": []
  },
  {
   "cell_type": "code",
   "execution_count": null,
   "id": "532bcfed",
   "metadata": {},
   "outputs": [],
   "source": []
  },
  {
   "cell_type": "code",
   "execution_count": 24,
   "id": "2b2efd72",
   "metadata": {},
   "outputs": [
    {
     "data": {
      "text/plain": [
       "['9187786495792', '9786161820626', '9786161820626', '9786161820626']"
      ]
     },
     "execution_count": 24,
     "metadata": {},
     "output_type": "execute_result"
    }
   ],
   "source": [
    "import csv \n",
    "\n",
    "def getBarcodeFromCsv(filename):\n",
    "    file = open(filename)\n",
    "    csvreader = csv.reader(file)\n",
    "    rows = []\n",
    "    for row in csvreader:\n",
    "        rows.append(row[0])\n",
    "    file.close()\n",
    "    f = open(filename, \"w\")\n",
    "    f.truncate()\n",
    "    f.close()\n",
    "    return rows\n",
    "\n",
    "current_barcodes = getBarcodeFromCsv('data/current_barcode.csv')\n",
    "current_barcodes"
   ]
  },
  {
   "cell_type": "code",
   "execution_count": 25,
   "id": "c6b68765",
   "metadata": {},
   "outputs": [
    {
     "data": {
      "text/html": [
       "<div>\n",
       "<style scoped>\n",
       "    .dataframe tbody tr th:only-of-type {\n",
       "        vertical-align: middle;\n",
       "    }\n",
       "\n",
       "    .dataframe tbody tr th {\n",
       "        vertical-align: top;\n",
       "    }\n",
       "\n",
       "    .dataframe thead th {\n",
       "        text-align: right;\n",
       "    }\n",
       "</style>\n",
       "<table border=\"1\" class=\"dataframe\">\n",
       "  <thead>\n",
       "    <tr style=\"text-align: right;\">\n",
       "      <th></th>\n",
       "      <th>barcode</th>\n",
       "      <th>name</th>\n",
       "      <th>price</th>\n",
       "    </tr>\n",
       "  </thead>\n",
       "  <tbody>\n",
       "    <tr>\n",
       "      <th>0</th>\n",
       "      <td>9187786495792</td>\n",
       "      <td>product1</td>\n",
       "      <td>5</td>\n",
       "    </tr>\n",
       "    <tr>\n",
       "      <th>1</th>\n",
       "      <td>9781186495798</td>\n",
       "      <td>product2</td>\n",
       "      <td>10</td>\n",
       "    </tr>\n",
       "    <tr>\n",
       "      <th>2</th>\n",
       "      <td>9781786495792</td>\n",
       "      <td>product3</td>\n",
       "      <td>15</td>\n",
       "    </tr>\n",
       "    <tr>\n",
       "      <th>3</th>\n",
       "      <td>9786161820626</td>\n",
       "      <td>product4</td>\n",
       "      <td>20</td>\n",
       "    </tr>\n",
       "  </tbody>\n",
       "</table>\n",
       "</div>"
      ],
      "text/plain": [
       "         barcode      name  price\n",
       "0  9187786495792  product1      5\n",
       "1  9781186495798  product2     10\n",
       "2  9781786495792  product3     15\n",
       "3  9786161820626  product4     20"
      ]
     },
     "execution_count": 25,
     "metadata": {},
     "output_type": "execute_result"
    }
   ],
   "source": [
    "import pandas as pd\n",
    "df = pd.read_csv('data/products.csv') \n",
    "df"
   ]
  },
  {
   "cell_type": "code",
   "execution_count": 26,
   "id": "381ec7e9",
   "metadata": {},
   "outputs": [
    {
     "data": {
      "text/plain": [
       "['9187786495792', '9786161820626', '9786161820626']"
      ]
     },
     "execution_count": 26,
     "metadata": {},
     "output_type": "execute_result"
    }
   ],
   "source": [
    "Barcodes = []\n",
    "for barcode_info in barcodes:\n",
    "    if str(barcode_info) in str(df['barcode']):\n",
    "        Barcodes.append(barcode_info)\n",
    "Barcodes"
   ]
  },
  {
   "cell_type": "code",
   "execution_count": 27,
   "id": "95c65ec8",
   "metadata": {},
   "outputs": [
    {
     "data": {
      "text/plain": [
       "('product1', 5)"
      ]
     },
     "execution_count": 27,
     "metadata": {},
     "output_type": "execute_result"
    }
   ],
   "source": [
    "def find_product_data(df,barcode):\n",
    "    for i,b in enumerate(df['barcode']):\n",
    "        if str(b) == str(barcode):\n",
    "            return df['name'][i],df['price'][i]\n",
    "    else:\n",
    "        return None,None\n",
    "    \n",
    "find_product_data(df,'9187786495792')"
   ]
  },
  {
   "cell_type": "code",
   "execution_count": 28,
   "id": "7dc06b43",
   "metadata": {},
   "outputs": [
    {
     "data": {
      "text/plain": [
       "'Total 45//product4|2|40/product1|1|5/||/||/||/||/||/||/||/||'"
      ]
     },
     "execution_count": 28,
     "metadata": {},
     "output_type": "execute_result"
    }
   ],
   "source": [
    "def create_table(df,Barcodes):\n",
    "    # table = 'Total 9999//aaaaa|12|120/bbbb|1|100/ccccc|12|120/ddddd|1|100'\n",
    "    df_barcode = []\n",
    "    for i in set(df['barcode']):\n",
    "        df_barcode.append(str(i))\n",
    "    keys = list(set(Barcodes).intersection(set(df_barcode)))  #get barcode key only in database\n",
    "    \n",
    "    table = ''\n",
    "    Total = 0 \n",
    "    for k in keys:\n",
    "        barcode = k\n",
    "        count = Barcodes.count(k)\n",
    "        name,price = find_product_data(df,barcode)\n",
    "        total = price*count\n",
    "        Total += total\n",
    "        table += f'/{name}|{count}|{total}'\n",
    "    table += '/||'*(10-len(keys))   #add to 10 lists\n",
    "\n",
    "    if Total == 0:\n",
    "       table = 'Total 0//||/||/||/||'\n",
    "    else:\n",
    "       table = f'Total {Total}/{table}'\n",
    "\n",
    "    \n",
    "    return table\n",
    "\n",
    "create_table(df,Barcodes)"
   ]
  },
  {
   "cell_type": "code",
   "execution_count": 18,
   "id": "0ad1a0ed",
   "metadata": {},
   "outputs": [
    {
     "data": {
      "text/plain": [
       "'False'"
      ]
     },
     "execution_count": 18,
     "metadata": {},
     "output_type": "execute_result"
    }
   ],
   "source": [
    "import configparser\n",
    "\n",
    "parser = configparser.ConfigParser()\n",
    "parser.read('data/status.txt')\n",
    "# finish = False\n",
    "finish = parser.get(\"status\", \"finish\")\n",
    "finish"
   ]
  },
  {
   "cell_type": "code",
   "execution_count": 19,
   "id": "96390ef0",
   "metadata": {},
   "outputs": [
    {
     "data": {
      "text/plain": [
       "'1.23'"
      ]
     },
     "execution_count": 19,
     "metadata": {},
     "output_type": "execute_result"
    }
   ],
   "source": [
    "waiting_amount = parser.get(\"status\", \"waiting_amount\")\n",
    "waiting_amount"
   ]
  },
  {
   "cell_type": "code",
   "execution_count": 10,
   "id": "dbc1a926",
   "metadata": {},
   "outputs": [],
   "source": []
  },
  {
   "cell_type": "code",
   "execution_count": 8,
   "id": "fd154e24",
   "metadata": {},
   "outputs": [
    {
     "data": {
      "text/plain": [
       "('5.55', 'False')"
      ]
     },
     "execution_count": 8,
     "metadata": {},
     "output_type": "execute_result"
    }
   ],
   "source": []
  },
  {
   "cell_type": "code",
   "execution_count": null,
   "id": "1030d68c",
   "metadata": {},
   "outputs": [],
   "source": []
  }
 ],
 "metadata": {
  "kernelspec": {
   "display_name": "store",
   "language": "python",
   "name": "store"
  },
  "language_info": {
   "codemirror_mode": {
    "name": "ipython",
    "version": 3
   },
   "file_extension": ".py",
   "mimetype": "text/x-python",
   "name": "python",
   "nbconvert_exporter": "python",
   "pygments_lexer": "ipython3",
   "version": "3.8.8"
  }
 },
 "nbformat": 4,
 "nbformat_minor": 5
}
